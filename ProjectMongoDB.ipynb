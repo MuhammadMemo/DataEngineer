{
 "cells": [
  {
   "attachments": {},
   "cell_type": "markdown",
   "metadata": {},
   "source": [
    "Connect MongoDB"
   ]
  },
  {
   "cell_type": "code",
   "execution_count": null,
   "metadata": {},
   "outputs": [],
   "source": [
    "#!pip install pyodbc "
   ]
  },
  {
   "cell_type": "code",
   "execution_count": 5,
   "metadata": {},
   "outputs": [],
   "source": [
    "#import pyodbc "
   ]
  },
  {
   "cell_type": "code",
   "execution_count": null,
   "metadata": {},
   "outputs": [],
   "source": [
    "#!pip install pymongo"
   ]
  },
  {
   "attachments": {},
   "cell_type": "markdown",
   "metadata": {},
   "source": [
    "mongodb://localhost:27017/"
   ]
  },
  {
   "cell_type": "code",
   "execution_count": 16,
   "metadata": {},
   "outputs": [],
   "source": [
    "import pymongo\n",
    "myclient = pymongo.MongoClient(\"mongodb://localhost:27017/\")\n",
    "mydb = myclient[\"Mydb\"]"
   ]
  },
  {
   "attachments": {},
   "cell_type": "markdown",
   "metadata": {},
   "source": [
    "fetch Customer data"
   ]
  },
  {
   "cell_type": "code",
   "execution_count": 40,
   "metadata": {},
   "outputs": [],
   "source": [
    "CustomerColl = mydb[\"Customer\"]\n",
    "Query_CustomerID={'CustomerID': 1}"
   ]
  },
  {
   "attachments": {},
   "cell_type": "markdown",
   "metadata": {},
   "source": [
    "fetch order Data"
   ]
  },
  {
   "cell_type": "code",
   "execution_count": 20,
   "metadata": {},
   "outputs": [],
   "source": [
    "OrderCall=mydb[\"Order\"]\n",
    "Query_Order={\"SALESID\" : \"01088299_SO\"}"
   ]
  },
  {
   "attachments": {},
   "cell_type": "markdown",
   "metadata": {},
   "source": [
    "Convert data to dataframe"
   ]
  },
  {
   "cell_type": "code",
   "execution_count": 32,
   "metadata": {},
   "outputs": [],
   "source": [
    "import pandas as pd"
   ]
  },
  {
   "cell_type": "code",
   "execution_count": 41,
   "metadata": {},
   "outputs": [
    {
     "data": {
      "text/html": [
       "<div>\n",
       "<style scoped>\n",
       "    .dataframe tbody tr th:only-of-type {\n",
       "        vertical-align: middle;\n",
       "    }\n",
       "\n",
       "    .dataframe tbody tr th {\n",
       "        vertical-align: top;\n",
       "    }\n",
       "\n",
       "    .dataframe thead th {\n",
       "        text-align: right;\n",
       "    }\n",
       "</style>\n",
       "<table border=\"1\" class=\"dataframe\">\n",
       "  <thead>\n",
       "    <tr style=\"text-align: right;\">\n",
       "      <th></th>\n",
       "      <th>_id</th>\n",
       "      <th>CustomerName</th>\n",
       "      <th>CustomerID</th>\n",
       "      <th>ID</th>\n",
       "      <th>CompanyID</th>\n",
       "      <th>IDNATIONALSTR</th>\n",
       "      <th>Age</th>\n",
       "      <th>Range Age</th>\n",
       "    </tr>\n",
       "  </thead>\n",
       "  <tbody>\n",
       "    <tr>\n",
       "      <th>0</th>\n",
       "      <td>648c0167bf1781fae707c3ea</td>\n",
       "      <td>قدري محمود</td>\n",
       "      <td>1</td>\n",
       "      <td>000002893_01</td>\n",
       "      <td>mfco</td>\n",
       "      <td>24566</td>\n",
       "      <td>124</td>\n",
       "      <td>UnKnown</td>\n",
       "    </tr>\n",
       "  </tbody>\n",
       "</table>\n",
       "</div>"
      ],
      "text/plain": [
       "                        _id CustomerName  CustomerID            ID CompanyID  \\\n",
       "0  648c0167bf1781fae707c3ea   قدري محمود           1  000002893_01      mfco   \n",
       "\n",
       "   IDNATIONALSTR  Age Range Age  \n",
       "0          24566  124   UnKnown  "
      ]
     },
     "execution_count": 41,
     "metadata": {},
     "output_type": "execute_result"
    }
   ],
   "source": [
    "df_Customer=pd.DataFrame(list(CustomerColl.find(Query_CustomerID)))\n",
    "df_Customer"
   ]
  },
  {
   "cell_type": "code",
   "execution_count": 34,
   "metadata": {},
   "outputs": [
    {
     "data": {
      "text/plain": [
       "Index(['_id', 'CustomerName', 'CustomerID', 'ID', 'CompanyID', 'IDNATIONALSTR',\n",
       "       'Age', 'Range Age'],\n",
       "      dtype='object')"
      ]
     },
     "execution_count": 34,
     "metadata": {},
     "output_type": "execute_result"
    }
   ],
   "source": [
    "df_Customer.columns"
   ]
  },
  {
   "cell_type": "code",
   "execution_count": 43,
   "metadata": {},
   "outputs": [
    {
     "data": {
      "text/html": [
       "<div>\n",
       "<style scoped>\n",
       "    .dataframe tbody tr th:only-of-type {\n",
       "        vertical-align: middle;\n",
       "    }\n",
       "\n",
       "    .dataframe tbody tr th {\n",
       "        vertical-align: top;\n",
       "    }\n",
       "\n",
       "    .dataframe thead th {\n",
       "        text-align: right;\n",
       "    }\n",
       "</style>\n",
       "<table border=\"1\" class=\"dataframe\">\n",
       "  <thead>\n",
       "    <tr style=\"text-align: right;\">\n",
       "      <th></th>\n",
       "      <th>_id</th>\n",
       "      <th>SALESID</th>\n",
       "      <th>LINENUM</th>\n",
       "      <th>StatusID</th>\n",
       "      <th>TAXGROUP</th>\n",
       "      <th>QTYORDERED</th>\n",
       "      <th>SALESPRICE</th>\n",
       "      <th>LINEPERCENT</th>\n",
       "      <th>LINEDISC</th>\n",
       "      <th>LINEAMOUNT</th>\n",
       "      <th>...</th>\n",
       "      <th>OrderDateKey</th>\n",
       "      <th>TaxValues</th>\n",
       "      <th>ReceiptDateKey</th>\n",
       "      <th>OrderDate</th>\n",
       "      <th>AmountTaxS</th>\n",
       "      <th>DateDiff</th>\n",
       "      <th>DataRange</th>\n",
       "      <th>Time</th>\n",
       "      <th>Hour</th>\n",
       "      <th>Hours</th>\n",
       "    </tr>\n",
       "  </thead>\n",
       "  <tbody>\n",
       "    <tr>\n",
       "      <th>0</th>\n",
       "      <td>648c0902bf1781fae709c8d5</td>\n",
       "      <td>01088299_SO</td>\n",
       "      <td>1</td>\n",
       "      <td>3</td>\n",
       "      <td>*14%</td>\n",
       "      <td>1</td>\n",
       "      <td>2013.16</td>\n",
       "      <td>10</td>\n",
       "      <td>0</td>\n",
       "      <td>1811.84</td>\n",
       "      <td>...</td>\n",
       "      <td>7072020</td>\n",
       "      <td>14</td>\n",
       "      <td>1092020</td>\n",
       "      <td>2020-07-29</td>\n",
       "      <td>2065.4976</td>\n",
       "      <td>34</td>\n",
       "      <td>From 30 To 35</td>\n",
       "      <td>06:03:33 م</td>\n",
       "      <td>18</td>\n",
       "      <td>18</td>\n",
       "    </tr>\n",
       "    <tr>\n",
       "      <th>1</th>\n",
       "      <td>648c090ebf1781fae70b0f4a</td>\n",
       "      <td>01088299_SO</td>\n",
       "      <td>3</td>\n",
       "      <td>3</td>\n",
       "      <td>*14%</td>\n",
       "      <td>1</td>\n",
       "      <td>1385.96</td>\n",
       "      <td>10</td>\n",
       "      <td>0</td>\n",
       "      <td>1247.36</td>\n",
       "      <td>...</td>\n",
       "      <td>7072020</td>\n",
       "      <td>14</td>\n",
       "      <td>1092020</td>\n",
       "      <td>2020-07-29</td>\n",
       "      <td>1421.9904</td>\n",
       "      <td>34</td>\n",
       "      <td>From 30 To 35</td>\n",
       "      <td>06:03:33 م</td>\n",
       "      <td>18</td>\n",
       "      <td>18</td>\n",
       "    </tr>\n",
       "    <tr>\n",
       "      <th>2</th>\n",
       "      <td>648c0913bf1781fae70b9e75</td>\n",
       "      <td>01088299_SO</td>\n",
       "      <td>2</td>\n",
       "      <td>3</td>\n",
       "      <td>*14%</td>\n",
       "      <td>1</td>\n",
       "      <td>2013.16</td>\n",
       "      <td>10</td>\n",
       "      <td>0</td>\n",
       "      <td>1811.84</td>\n",
       "      <td>...</td>\n",
       "      <td>7072020</td>\n",
       "      <td>14</td>\n",
       "      <td>1092020</td>\n",
       "      <td>2020-07-29</td>\n",
       "      <td>2065.4976</td>\n",
       "      <td>34</td>\n",
       "      <td>From 30 To 35</td>\n",
       "      <td>06:03:33 م</td>\n",
       "      <td>18</td>\n",
       "      <td>18</td>\n",
       "    </tr>\n",
       "  </tbody>\n",
       "</table>\n",
       "<p>3 rows × 31 columns</p>\n",
       "</div>"
      ],
      "text/plain": [
       "                        _id      SALESID  LINENUM  StatusID TAXGROUP  \\\n",
       "0  648c0902bf1781fae709c8d5  01088299_SO        1         3     *14%   \n",
       "1  648c090ebf1781fae70b0f4a  01088299_SO        3         3     *14%   \n",
       "2  648c0913bf1781fae70b9e75  01088299_SO        2         3     *14%   \n",
       "\n",
       "   QTYORDERED  SALESPRICE  LINEPERCENT  LINEDISC  LINEAMOUNT  ...  \\\n",
       "0           1     2013.16           10         0     1811.84  ...   \n",
       "1           1     1385.96           10         0     1247.36  ...   \n",
       "2           1     2013.16           10         0     1811.84  ...   \n",
       "\n",
       "   OrderDateKey  TaxValues  ReceiptDateKey  OrderDate AmountTaxS  DateDiff  \\\n",
       "0       7072020         14         1092020 2020-07-29  2065.4976        34   \n",
       "1       7072020         14         1092020 2020-07-29  1421.9904        34   \n",
       "2       7072020         14         1092020 2020-07-29  2065.4976        34   \n",
       "\n",
       "       DataRange        Time  Hour  Hours  \n",
       "0  From 30 To 35  06:03:33 م    18     18  \n",
       "1  From 30 To 35  06:03:33 م    18     18  \n",
       "2  From 30 To 35  06:03:33 م    18     18  \n",
       "\n",
       "[3 rows x 31 columns]"
      ]
     },
     "execution_count": 43,
     "metadata": {},
     "output_type": "execute_result"
    }
   ],
   "source": [
    "df_order= pd.DataFrame(list(OrderCall.find(Query_Order)))\n",
    "df_order"
   ]
  },
  {
   "cell_type": "code",
   "execution_count": 24,
   "metadata": {},
   "outputs": [
    {
     "data": {
      "text/plain": [
       "Index(['_id', 'SALESID', 'LINENUM', 'StatusID', 'TAXGROUP', 'QTYORDERED',\n",
       "       'SALESPRICE', 'LINEPERCENT', 'LINEDISC', 'LINEAMOUNT', 'AmountTax',\n",
       "       'SALESQTY', 'SALESTYPE', 'INVENTDIMID', 'ReceiptDate', 'ProductID',\n",
       "       'CustomerID', 'RegionID', 'SalesGroupID', 'CompanyID', 'SubProductID',\n",
       "       'OrderDateKey', 'TaxValues', 'ReceiptDateKey', 'OrderDate',\n",
       "       'AmountTaxS', 'DateDiff', 'DataRange', 'Time', 'Hour', 'Hours'],\n",
       "      dtype='object')"
      ]
     },
     "execution_count": 24,
     "metadata": {},
     "output_type": "execute_result"
    }
   ],
   "source": [
    "df_order.columns"
   ]
  },
  {
   "cell_type": "code",
   "execution_count": null,
   "metadata": {},
   "outputs": [],
   "source": []
  }
 ],
 "metadata": {
  "kernelspec": {
   "display_name": "Pay39",
   "language": "python",
   "name": "python3"
  },
  "language_info": {
   "codemirror_mode": {
    "name": "ipython",
    "version": 3
   },
   "file_extension": ".py",
   "mimetype": "text/x-python",
   "name": "python",
   "nbconvert_exporter": "python",
   "pygments_lexer": "ipython3",
   "version": "3.9.16"
  },
  "orig_nbformat": 4
 },
 "nbformat": 4,
 "nbformat_minor": 2
}
