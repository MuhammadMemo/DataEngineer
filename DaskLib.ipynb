{
 "cells": [
  {
   "attachments": {},
   "cell_type": "markdown",
   "metadata": {},
   "source": [
    "!pip install pyspark"
   ]
  },
  {
   "attachments": {},
   "cell_type": "markdown",
   "metadata": {},
   "source": [
    "!pip install \"dask[complete]\""
   ]
  },
  {
   "cell_type": "code",
   "execution_count": 3,
   "metadata": {},
   "outputs": [],
   "source": [
    "import dask as ds\n",
    "import pyspark as ps\n",
    "import pandas as pd\n",
    "import glob as gl"
   ]
  },
  {
   "cell_type": "code",
   "execution_count": 2,
   "metadata": {},
   "outputs": [
    {
     "name": "stderr",
     "output_type": "stream",
     "text": [
      "Cloning into 'data'...\n",
      "warning: redirecting to https://github.com/dgadiraju/data/\n",
      "Updating files:  62% (49/78)\n",
      "Updating files:  64% (50/78)\n",
      "Updating files:  65% (51/78)\n",
      "Updating files:  66% (52/78)\n",
      "Updating files:  67% (53/78)\n",
      "Updating files:  69% (54/78)\n",
      "Updating files:  70% (55/78)\n",
      "Updating files:  71% (56/78)\n",
      "Updating files:  73% (57/78)\n",
      "Updating files:  74% (58/78)\n",
      "Updating files:  75% (59/78)\n",
      "Updating files:  76% (60/78)\n",
      "Updating files:  78% (61/78)\n",
      "Updating files:  79% (62/78)\n",
      "Updating files:  80% (63/78)\n",
      "Updating files:  82% (64/78)\n",
      "Updating files:  83% (65/78)\n",
      "Updating files:  84% (66/78)\n",
      "Updating files:  85% (67/78)\n",
      "Updating files:  87% (68/78)\n",
      "Updating files:  88% (69/78)\n",
      "Updating files:  89% (70/78)\n",
      "Updating files:  91% (71/78)\n",
      "Updating files:  92% (72/78)\n",
      "Updating files:  93% (73/78)\n",
      "Updating files:  94% (74/78)\n",
      "Updating files:  96% (75/78)\n",
      "Updating files:  97% (76/78)\n",
      "Updating files:  98% (77/78)\n",
      "Updating files: 100% (78/78)\n",
      "Updating files: 100% (78/78), done.\n"
     ]
    }
   ],
   "source": [
    "!git clone http://github.com/dgadiraju/data"
   ]
  },
  {
   "cell_type": "code",
   "execution_count": 9,
   "metadata": {},
   "outputs": [
    {
     "name": "stdout",
     "output_type": "stream",
     "text": [
      "data\\nyse_all\\nyse_data\\NYSE_1997.txt.gz\n",
      "data\\nyse_all\\nyse_data\\NYSE_1998.txt.gz\n",
      "data\\nyse_all\\nyse_data\\NYSE_1999.txt.gz\n",
      "data\\nyse_all\\nyse_data\\NYSE_2000.txt.gz\n",
      "data\\nyse_all\\nyse_data\\NYSE_2001.txt.gz\n",
      "data\\nyse_all\\nyse_data\\NYSE_2002.txt.gz\n",
      "data\\nyse_all\\nyse_data\\NYSE_2003.txt.gz\n",
      "data\\nyse_all\\nyse_data\\NYSE_2004.txt.gz\n",
      "data\\nyse_all\\nyse_data\\NYSE_2005.txt.gz\n",
      "data\\nyse_all\\nyse_data\\NYSE_2006.txt.gz\n",
      "data\\nyse_all\\nyse_data\\NYSE_2007.txt.gz\n",
      "data\\nyse_all\\nyse_data\\NYSE_2008.txt.gz\n",
      "data\\nyse_all\\nyse_data\\NYSE_2009.txt.gz\n",
      "data\\nyse_all\\nyse_data\\NYSE_2010.txt.gz\n",
      "data\\nyse_all\\nyse_data\\NYSE_2011.txt.gz\n",
      "data\\nyse_all\\nyse_data\\NYSE_2012.txt.gz\n",
      "data\\nyse_all\\nyse_data\\NYSE_2013.txt.gz\n",
      "data\\nyse_all\\nyse_data\\NYSE_2014.txt.gz\n",
      "data\\nyse_all\\nyse_data\\NYSE_2015.txt.gz\n",
      "data\\nyse_all\\nyse_data\\NYSE_2016.txt.gz\n",
      "data\\nyse_all\\nyse_data\\NYSE_2017.txt.gz\n"
     ]
    },
    {
     "data": {
      "text/plain": [
       "9384718"
      ]
     },
     "execution_count": 9,
     "metadata": {},
     "output_type": "execute_result"
    }
   ],
   "source": [
    "files=gl.glob('data\\\\nyse_all\\\\nyse_data\\\\*')\n",
    "countRow=0\n",
    "for file in files :\n",
    "    print(file)\n",
    "    df=pd.read_csv(file)\n",
    "    countRow += df.shape[0]\n",
    "countRow\n"
   ]
  }
 ],
 "metadata": {
  "kernelspec": {
   "display_name": "Pay39",
   "language": "python",
   "name": "python3"
  },
  "language_info": {
   "codemirror_mode": {
    "name": "ipython",
    "version": 3
   },
   "file_extension": ".py",
   "mimetype": "text/x-python",
   "name": "python",
   "nbconvert_exporter": "python",
   "pygments_lexer": "ipython3",
   "version": "3.9.16"
  },
  "orig_nbformat": 4
 },
 "nbformat": 4,
 "nbformat_minor": 2
}
